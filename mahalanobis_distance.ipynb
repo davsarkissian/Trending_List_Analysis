{
 "cells": [
  {
   "cell_type": "markdown",
   "metadata": {},
   "source": [
    "KMEAN USING MAHALANOBIS DISTANCE "
   ]
  },
  {
   "cell_type": "code",
   "execution_count": 1,
   "metadata": {},
   "outputs": [],
   "source": [
    "\n",
    "\n",
    "import numpy as np\n",
    "import pandas as pd\n",
    "from scipy.stats import zscore\n",
    "from sklearn.neighbors import KNeighborsRegressor, NearestNeighbors\n",
    "from random import sample\n",
    "from numpy.random import uniform\n",
    "from math import isnan\n",
    "import seaborn as sns\n",
    "from matplotlib import pyplot as plt\n",
    "from sklearn.preprocessing import StandardScaler\n",
    "from sklearn.decomposition import PCA\n",
    "from mpl_toolkits.mplot3d import Axes3D\n",
    "from scipy.spatial.distance import cdist\n",
    "from scipy.spatial import distance\n",
    "\n"
   ]
  },
  {
   "cell_type": "code",
   "execution_count": 2,
   "metadata": {},
   "outputs": [],
   "source": [
    "path = \"Data/FR_youtube_trending_data.csv\"\n",
    "df = pd.read_csv(path)\n",
    "\n",
    "df.drop_duplicates(subset =\"video_id\", keep = 'first', inplace=True)\n",
    "\n"
   ]
  },
  {
   "cell_type": "code",
   "execution_count": 3,
   "metadata": {},
   "outputs": [
    {
     "data": {
      "text/html": [
       "<div>\n",
       "<style scoped>\n",
       "    .dataframe tbody tr th:only-of-type {\n",
       "        vertical-align: middle;\n",
       "    }\n",
       "\n",
       "    .dataframe tbody tr th {\n",
       "        vertical-align: top;\n",
       "    }\n",
       "\n",
       "    .dataframe thead th {\n",
       "        text-align: right;\n",
       "    }\n",
       "</style>\n",
       "<table border=\"1\" class=\"dataframe\">\n",
       "  <thead>\n",
       "    <tr style=\"text-align: right;\">\n",
       "      <th></th>\n",
       "      <th>video_id</th>\n",
       "      <th>likes</th>\n",
       "      <th>view_count</th>\n",
       "      <th>comment_count</th>\n",
       "      <th>dislikes</th>\n",
       "    </tr>\n",
       "  </thead>\n",
       "  <tbody>\n",
       "    <tr>\n",
       "      <th>0</th>\n",
       "      <td>7rlwxSPUcQk</td>\n",
       "      <td>165557</td>\n",
       "      <td>1943013</td>\n",
       "      <td>15777</td>\n",
       "      <td>4198</td>\n",
       "    </tr>\n",
       "    <tr>\n",
       "      <th>1</th>\n",
       "      <td>AcBd_RH9JSw</td>\n",
       "      <td>346839</td>\n",
       "      <td>1823553</td>\n",
       "      <td>8030</td>\n",
       "      <td>2767</td>\n",
       "    </tr>\n",
       "    <tr>\n",
       "      <th>2</th>\n",
       "      <td>JVm8P6kKgD0</td>\n",
       "      <td>22362</td>\n",
       "      <td>196340</td>\n",
       "      <td>1148</td>\n",
       "      <td>187</td>\n",
       "    </tr>\n",
       "    <tr>\n",
       "      <th>3</th>\n",
       "      <td>JfgeD7xWy-w</td>\n",
       "      <td>29561</td>\n",
       "      <td>311609</td>\n",
       "      <td>3213</td>\n",
       "      <td>418</td>\n",
       "    </tr>\n",
       "    <tr>\n",
       "      <th>4</th>\n",
       "      <td>P3IkBxra3a8</td>\n",
       "      <td>10471</td>\n",
       "      <td>100691</td>\n",
       "      <td>384</td>\n",
       "      <td>90</td>\n",
       "    </tr>\n",
       "  </tbody>\n",
       "</table>\n",
       "</div>"
      ],
      "text/plain": [
       "      video_id   likes  view_count  comment_count  dislikes\n",
       "0  7rlwxSPUcQk  165557     1943013          15777      4198\n",
       "1  AcBd_RH9JSw  346839     1823553           8030      2767\n",
       "2  JVm8P6kKgD0   22362      196340           1148       187\n",
       "3  JfgeD7xWy-w   29561      311609           3213       418\n",
       "4  P3IkBxra3a8   10471      100691            384        90"
      ]
     },
     "execution_count": 3,
     "metadata": {},
     "output_type": "execute_result"
    }
   ],
   "source": [
    "subset = df[['video_id','likes','view_count','comment_count','dislikes']]\n",
    "subset.head()"
   ]
  },
  {
   "cell_type": "code",
   "execution_count": 4,
   "metadata": {},
   "outputs": [],
   "source": [
    "X = subset.drop(columns='video_id')"
   ]
  },
  {
   "cell_type": "code",
   "execution_count": 5,
   "metadata": {},
   "outputs": [
    {
     "data": {
      "text/plain": [
       "<AxesSubplot:>"
      ]
     },
     "execution_count": 5,
     "metadata": {},
     "output_type": "execute_result"
    },
    {
     "data": {
      "image/png": "[encoded data removed]",
      "text/plain": [
       "<Figure size 432x288 with 1 Axes>"
      ]
     },
     "metadata": {
      "needs_background": "light"
     },
     "output_type": "display_data"
    }
   ],
   "source": [
    "sns.boxplot(data=X)"
   ]
  },
  {
   "cell_type": "code",
   "execution_count": 6,
   "metadata": {},
   "outputs": [],
   "source": [
    "X = X.apply(zscore)\n",
    "\n",
    "outlier_mask = X[(~(X<3).all(axis=1))].index"
   ]
  },
  {
   "cell_type": "code",
   "execution_count": 7,
   "metadata": {},
   "outputs": [
    {
     "data": {
      "text/html": [
       "<div>\n",
       "<style scoped>\n",
       "    .dataframe tbody tr th:only-of-type {\n",
       "        vertical-align: middle;\n",
       "    }\n",
       "\n",
       "    .dataframe tbody tr th {\n",
       "        vertical-align: top;\n",
       "    }\n",
       "\n",
       "    .dataframe thead th {\n",
       "        text-align: right;\n",
       "    }\n",
       "</style>\n",
       "<table border=\"1\" class=\"dataframe\">\n",
       "  <thead>\n",
       "    <tr style=\"text-align: right;\">\n",
       "      <th></th>\n",
       "      <th>likes</th>\n",
       "      <th>view_count</th>\n",
       "      <th>comment_count</th>\n",
       "      <th>dislikes</th>\n",
       "    </tr>\n",
       "  </thead>\n",
       "  <tbody>\n",
       "    <tr>\n",
       "      <th>0</th>\n",
       "      <td>0.516884</td>\n",
       "      <td>0.674497</td>\n",
       "      <td>0.220688</td>\n",
       "      <td>0.704318</td>\n",
       "    </tr>\n",
       "    <tr>\n",
       "      <th>1</th>\n",
       "      <td>1.356086</td>\n",
       "      <td>0.616360</td>\n",
       "      <td>0.063768</td>\n",
       "      <td>0.417316</td>\n",
       "    </tr>\n",
       "    <tr>\n",
       "      <th>2</th>\n",
       "      <td>-0.146003</td>\n",
       "      <td>-0.175543</td>\n",
       "      <td>-0.075632</td>\n",
       "      <td>-0.100129</td>\n",
       "    </tr>\n",
       "    <tr>\n",
       "      <th>3</th>\n",
       "      <td>-0.112677</td>\n",
       "      <td>-0.119446</td>\n",
       "      <td>-0.033804</td>\n",
       "      <td>-0.053800</td>\n",
       "    </tr>\n",
       "    <tr>\n",
       "      <th>4</th>\n",
       "      <td>-0.201049</td>\n",
       "      <td>-0.222092</td>\n",
       "      <td>-0.091107</td>\n",
       "      <td>-0.119583</td>\n",
       "    </tr>\n",
       "  </tbody>\n",
       "</table>\n",
       "</div>"
      ],
      "text/plain": [
       "      likes  view_count  comment_count  dislikes\n",
       "0  0.516884    0.674497       0.220688  0.704318\n",
       "1  1.356086    0.616360       0.063768  0.417316\n",
       "2 -0.146003   -0.175543      -0.075632 -0.100129\n",
       "3 -0.112677   -0.119446      -0.033804 -0.053800\n",
       "4 -0.201049   -0.222092      -0.091107 -0.119583"
      ]
     },
     "execution_count": 7,
     "metadata": {},
     "output_type": "execute_result"
    }
   ],
   "source": [
    "X.head()"
   ]
  },
  {
   "cell_type": "code",
   "execution_count": 9,
   "metadata": {},
   "outputs": [
    {
     "data": {
      "text/plain": [
       "Text(0.5, 0.92, '3D plot of KMeans Clustering')"
      ]
     },
     "execution_count": 9,
     "metadata": {},
     "output_type": "execute_result"
    },
    {
     "data": {
      "image/png": "[encoded data removed]",
      "text/plain": [
       "<Figure size 576x432 with 1 Axes>"
      ]
     },
     "metadata": {
      "needs_background": "light"
     },
     "output_type": "display_data"
    }
   ],
   "source": [
    "pca = PCA(n_components=3, svd_solver='randomized',random_state=42)\n",
    "\n",
    "visu = pd.DataFrame(pca.fit_transform(X),columns=[\"vis1\",\"vis2\",\"vis3\"])\n",
    "\n",
    "fig = plt.figure(figsize=(8, 6))\n",
    "ax = Axes3D(fig, rect=[0, 0, .95, 1], elev=20, azim=60, auto_add_to_figure=False)\n",
    "fig.add_axes(ax)\n",
    "ax.scatter(visu.iloc[:, 0], visu.iloc[:, 1], visu.iloc[:, 2], edgecolor='k')\n",
    "ax.w_xaxis.set_ticklabels([])\n",
    "ax.w_yaxis.set_ticklabels([])\n",
    "ax.w_zaxis.set_ticklabels([])\n",
    "ax.set_title('3D plot of KMeans Clustering')"
   ]
  },
  {
   "cell_type": "code",
   "execution_count": 10,
   "metadata": {},
   "outputs": [],
   "source": [
    "def centroids_init(X,k):\n",
    "    \n",
    "    # Initialise all points to cluster 0 and select a random centroid point\n",
    "    idx = np.random.choice(len(X), 1, replace=False)\n",
    "    centroids = X[idx, :]\n",
    "    dist = 0\n",
    "\n",
    "    P = np.array([0]*len(X))\n",
    "\n",
    "    # Find the farthest record from centroids and select that point as a new centroid\n",
    "    # Repeat search for new centroid for cluster 1 to cluster k\n",
    "    for i in range(1, k):\n",
    "        dist = [distance.mahalanobis(X[0, :], \n",
    "                                     np.array(centroids)[clu], \n",
    "                                     np.linalg.inv(np.cov(X[P==clu, :], rowvar=0))) for clu in range(i)]\n",
    "        for idx in range(1, len(X)):\n",
    "            dist = np.vstack((dist, [distance.mahalanobis(X[idx, :], \n",
    "                                                          np.array(centroids)[clu], \n",
    "                                                          np.linalg.inv(np.cov(X[P==clu, :], rowvar=0))) for clu in range(i)]))\n",
    "        centroids = np.vstack((centroids, X[np.argmax(np.max(dist,axis=1)), :]))\n",
    "        P = np.argmin(distance.cdist(X, centroids, 'euclidean'),axis=1)\n",
    "    return(centroids)"
   ]
  },
  {
   "cell_type": "code",
   "execution_count": 11,
   "metadata": {},
   "outputs": [],
   "source": [
    "def kmeans_mahalanobis_new(X,k=3,max_iterations=6):\n",
    "\n",
    "    # Check if data is in DataFrame form and change to array\n",
    "    if isinstance(X, pd.DataFrame):X = X.values\n",
    "    \n",
    "    # Initialise required number of Centroids\n",
    "    centroids = centroids_init(X,k)\n",
    "    \n",
    "    # Create initial cluster with Euclidean distance\n",
    "    P = np.argmin(distance.cdist(X, centroids, 'euclidean'),axis=1)\n",
    "    \n",
    "    # Loop through max_iterations times\n",
    "    for _ in range(max_iterations):\n",
    "        \n",
    "        # Find Mahalanobish distance for each datapoint\n",
    "        dist = [distance.mahalanobis(X[0, :], \n",
    "                                     np.array(centroids)[clu], \n",
    "                                     np.linalg.inv(np.cov(X[P==clu, :], rowvar=0))) for clu in range(k)]\n",
    "        for idx in range(1, len(X)):\n",
    "            dist = np.vstack((dist, [distance.mahalanobis(X[idx, :], \n",
    "                                                          np.array(centroids)[clu], \n",
    "                                                          np.linalg.inv(np.cov(X[P==clu, :], rowvar=0))) for clu in range(k)]))\n",
    "        tmp = np.argmin(dist,axis=1)\n",
    "        \n",
    "        # Update centroids to cluster means\n",
    "        centroids = np.vstack([X[P==i,:].mean(axis=0) for i in range(k)])\n",
    "        \n",
    "        # If clusters are stable then stop early\n",
    "        if np.array_equal(P,tmp):break\n",
    "        P = tmp\n",
    "    return(P)"
   ]
  },
  {
   "cell_type": "code",
   "execution_count": 12,
   "metadata": {},
   "outputs": [
    {
     "name": "stderr",
     "output_type": "stream",
     "text": [
      "/usr/local/python/lib/python3.9/site-packages/numpy/lib/function_base.py:380: RuntimeWarning: Mean of empty slice.\n",
      "  avg = a.mean(axis)\n",
      "/usr/local/python/lib/python3.9/site-packages/numpy/core/_methods.py:181: RuntimeWarning: invalid value encountered in true_divide\n",
      "  ret = um.true_divide(\n",
      "/tmp/ipykernel_3738/3919519143.py:15: RuntimeWarning: Degrees of freedom <= 0 for slice\n",
      "  np.linalg.inv(np.cov(X[P==clu, :], rowvar=0))) for clu in range(i)]\n",
      "/usr/local/python/lib/python3.9/site-packages/numpy/lib/function_base.py:2542: RuntimeWarning: divide by zero encountered in true_divide\n",
      "  c *= np.true_divide(1, fact)\n",
      "/usr/local/python/lib/python3.9/site-packages/numpy/lib/function_base.py:2542: RuntimeWarning: invalid value encountered in multiply\n",
      "  c *= np.true_divide(1, fact)\n",
      "/tmp/ipykernel_3738/3919519143.py:19: RuntimeWarning: Degrees of freedom <= 0 for slice\n",
      "  np.linalg.inv(np.cov(X[P==clu, :], rowvar=0))) for clu in range(i)]))\n",
      "/tmp/ipykernel_3738/1279514566.py:18: RuntimeWarning: Degrees of freedom <= 0 for slice\n",
      "  np.linalg.inv(np.cov(X[P==clu, :], rowvar=0))) for clu in range(k)]\n",
      "/tmp/ipykernel_3738/1279514566.py:22: RuntimeWarning: Degrees of freedom <= 0 for slice\n",
      "  np.linalg.inv(np.cov(X[P==clu, :], rowvar=0))) for clu in range(k)]))\n",
      "/tmp/ipykernel_3738/1279514566.py:26: RuntimeWarning: Mean of empty slice.\n",
      "  centroids = np.vstack([X[P==i,:].mean(axis=0) for i in range(k)])\n"
     ]
    },
    {
     "name": "stdout",
     "output_type": "stream",
     "text": [
      "Reinitialising\n"
     ]
    }
   ],
   "source": [
    "# Initiate cluster numbers\n",
    "k=5\n",
    "\n",
    "# Repeat process till conditions are satisfied else leave with fail message\n",
    "c = 0\n",
    "while True:\n",
    "\n",
    "    try:\n",
    "        prediction=kmeans_mahalanobis_new(X.drop(outlier_mask), k=k)\n",
    "        if len(np.unique(prediction))==k:\n",
    "            break\n",
    "    except:\n",
    "        print(\"Reinitialising\")\n",
    "        c+=1\n",
    "        if c == 7:\n",
    "            print(\"Failed too many times\")\n",
    "            break\n",
    "prediction"
   ]
  }
 ],
 "metadata": {
  "interpreter": {
   "hash": "c3ecfbb2e518759e8150e3a4e02d9374d8d11351137435699613669ebcf0f527"
  },
  "kernelspec": {
   "display_name": "Python 3.9.7 64-bit",
   "language": "python",
   "name": "python3"
  },
  "language_info": {
   "codemirror_mode": {
    "name": "ipython",
    "version": 3
   },
   "file_extension": ".py",
   "mimetype": "text/x-python",
   "name": "python",
   "nbconvert_exporter": "python",
   "pygments_lexer": "ipython3",
   "version": "3.9.7"
  },
  "orig_nbformat": 4
 },
 "nbformat": 4,
 "nbformat_minor": 2
}
